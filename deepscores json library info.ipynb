{
 "cells": [
  {
   "cell_type": "markdown",
   "id": "1d37e587-a324-4ded-8b16-90582c4b8559",
   "metadata": {},
   "source": [
    "#3# The deepscores dataset https://zenodo.org/records/4012193 contains thousands of pages of music in image (page scan) format, and a (huge) json file of bounding box annontations for these images."
   ]
  },
  {
   "cell_type": "code",
   "execution_count": 1,
   "id": "706816cc-c394-4187-bb03-15ac3e34a025",
   "metadata": {},
   "outputs": [
    {
     "name": "stdout",
     "output_type": "stream",
     "text": [
      "dict_keys(['info', 'annotation_sets', 'categories', 'images', 'annotations'])\n"
     ]
    }
   ],
   "source": [
    "import json\n",
    "import pandas as pd\n",
    "import matplotlib.pyplot as plt\n",
    "import matplotlib.patches as patches\n",
    "from PIL import Image\n",
    "import math\n",
    "\n",
    "# Load JSON data into a dictionary\n",
    "with open('./ds2_dense/deepscores_train.json') as file:\n",
    "    data = json.load(file)\n",
    "\n",
    "# You can now inspect the data structure\n",
    "print(data.keys())  # Print keys to understand the structure"
   ]
  },
  {
   "cell_type": "markdown",
   "id": "28fadccb-9b82-43e5-9c55-aa5cef213ad4",
   "metadata": {},
   "source": [
    "### the first two keys are mostly useless- note that there are two annotation sets though, deepscores and muscima++. Deepscores is printed music and Muscima is handwritten music- We can use both in this combined set as the handwritten scores have more entropy which will hopefully improve any model "
   ]
  },
  {
   "cell_type": "code",
   "execution_count": 2,
   "id": "dc8350e4-df05-42ef-8e20-a4ee310177ad",
   "metadata": {},
   "outputs": [
    {
     "name": "stdout",
     "output_type": "stream",
     "text": [
      "{'description': 'Deepscores training set in the OBB format', 'version': '2.0', 'year': 2020, 'contributor': 'Lukas Tuggener, Ismail Elezi, Yvan Satyawan, Jürgen Schmidhuber, Marcello Pelillo, Thilo Stadelmann', 'date_created': '2020-09-29', 'url': 'https://tuggeluk.github.io/deepscores/'}\n",
      "['deepscores', 'muscima++']\n"
     ]
    }
   ],
   "source": [
    "# Example to access a nested part if 'data' contains a key that opens to a nested dictionary\n",
    "nested_part = data['info']\n",
    "print(nested_part)\n",
    "# Example to access a nested part if 'data' contains a key that opens to a nested dictionary\n",
    "nested_part = data['annotation_sets']\n",
    "print(nested_part)"
   ]
  },
  {
   "cell_type": "markdown",
   "id": "ab08a88f-db5a-4037-b717-56b8c2d43cb3",
   "metadata": {},
   "source": [
    "### Categories contains the labels - note that the labels have different id/spelling between the datasets, however, equivalent labels have been assigned the same \"color\" (don't ask me why they did it this way- maybe just rename the color column \"id\")"
   ]
  },
  {
   "cell_type": "code",
   "execution_count": 3,
   "id": "20ba8bf0-79fb-441b-ba34-ed8b8d1a5f92",
   "metadata": {},
   "outputs": [
    {
     "data": {
      "text/html": [
       "<div>\n",
       "<style scoped>\n",
       "    .dataframe tbody tr th:only-of-type {\n",
       "        vertical-align: middle;\n",
       "    }\n",
       "\n",
       "    .dataframe tbody tr th {\n",
       "        vertical-align: top;\n",
       "    }\n",
       "\n",
       "    .dataframe thead th {\n",
       "        text-align: right;\n",
       "    }\n",
       "</style>\n",
       "<table border=\"1\" class=\"dataframe\">\n",
       "  <thead>\n",
       "    <tr style=\"text-align: right;\">\n",
       "      <th></th>\n",
       "      <th>name</th>\n",
       "      <th>annotation_set</th>\n",
       "      <th>color</th>\n",
       "    </tr>\n",
       "  </thead>\n",
       "  <tbody>\n",
       "    <tr>\n",
       "      <th>1</th>\n",
       "      <td>brace</td>\n",
       "      <td>deepscores</td>\n",
       "      <td>1</td>\n",
       "    </tr>\n",
       "    <tr>\n",
       "      <th>137</th>\n",
       "      <td>brace</td>\n",
       "      <td>muscima++</td>\n",
       "      <td>1</td>\n",
       "    </tr>\n",
       "    <tr>\n",
       "      <th>2</th>\n",
       "      <td>ledgerLine</td>\n",
       "      <td>deepscores</td>\n",
       "      <td>2</td>\n",
       "    </tr>\n",
       "    <tr>\n",
       "      <th>138</th>\n",
       "      <td>legerLine</td>\n",
       "      <td>muscima++</td>\n",
       "      <td>2</td>\n",
       "    </tr>\n",
       "    <tr>\n",
       "      <th>3</th>\n",
       "      <td>repeatDot</td>\n",
       "      <td>deepscores</td>\n",
       "      <td>7</td>\n",
       "    </tr>\n",
       "    <tr>\n",
       "      <th>139</th>\n",
       "      <td>repeatDot</td>\n",
       "      <td>muscima++</td>\n",
       "      <td>7</td>\n",
       "    </tr>\n",
       "    <tr>\n",
       "      <th>4</th>\n",
       "      <td>segno</td>\n",
       "      <td>deepscores</td>\n",
       "      <td>8</td>\n",
       "    </tr>\n",
       "    <tr>\n",
       "      <th>140</th>\n",
       "      <td>segno</td>\n",
       "      <td>muscima++</td>\n",
       "      <td>8</td>\n",
       "    </tr>\n",
       "    <tr>\n",
       "      <th>5</th>\n",
       "      <td>coda</td>\n",
       "      <td>deepscores</td>\n",
       "      <td>9</td>\n",
       "    </tr>\n",
       "    <tr>\n",
       "      <th>141</th>\n",
       "      <td>coda</td>\n",
       "      <td>muscima++</td>\n",
       "      <td>9</td>\n",
       "    </tr>\n",
       "  </tbody>\n",
       "</table>\n",
       "</div>"
      ],
      "text/plain": [
       "           name annotation_set color\n",
       "1         brace     deepscores     1\n",
       "137       brace      muscima++     1\n",
       "2    ledgerLine     deepscores     2\n",
       "138   legerLine      muscima++     2\n",
       "3     repeatDot     deepscores     7\n",
       "139   repeatDot      muscima++     7\n",
       "4         segno     deepscores     8\n",
       "140       segno      muscima++     8\n",
       "5          coda     deepscores     9\n",
       "141        coda      muscima++     9"
      ]
     },
     "execution_count": 3,
     "metadata": {},
     "output_type": "execute_result"
    }
   ],
   "source": [
    "# Example to access a nested part if 'data' contains a key that opens to a nested dictionary\n",
    "nested_part = data['categories']\n",
    "# print(nested_part)\n",
    "# Assuming 'data' is your loaded JSON dictionary\n",
    "categories_data = data['categories']\n",
    "# Convert the 'categories' dictionary to a DataFrame\n",
    "categories_df = pd.DataFrame(categories_data)\n",
    "categories_df = categories_df.T\n",
    "# Display the DataFrame to check it\n",
    "categories_df.head(10)"
   ]
  },
  {
   "cell_type": "markdown",
   "id": "6ab5ef69-e2ac-454c-a39e-c0715ee3a824",
   "metadata": {},
   "source": [
    "### the images table has the filenames as the primary key and then a list of all annotation_ids for that image. you will have to do a join from the following table to get the actual bounding box coordinates for an image"
   ]
  },
  {
   "cell_type": "code",
   "execution_count": 4,
   "id": "6f74ec13-c713-466c-8164-2bd2a0df419d",
   "metadata": {},
   "outputs": [
    {
     "data": {
      "text/html": [
       "<div>\n",
       "<style scoped>\n",
       "    .dataframe tbody tr th:only-of-type {\n",
       "        vertical-align: middle;\n",
       "    }\n",
       "\n",
       "    .dataframe tbody tr th {\n",
       "        vertical-align: top;\n",
       "    }\n",
       "\n",
       "    .dataframe thead th {\n",
       "        text-align: right;\n",
       "    }\n",
       "</style>\n",
       "<table border=\"1\" class=\"dataframe\">\n",
       "  <thead>\n",
       "    <tr style=\"text-align: right;\">\n",
       "      <th></th>\n",
       "      <th>id</th>\n",
       "      <th>filename</th>\n",
       "      <th>width</th>\n",
       "      <th>height</th>\n",
       "      <th>ann_ids</th>\n",
       "    </tr>\n",
       "  </thead>\n",
       "  <tbody>\n",
       "    <tr>\n",
       "      <th>0</th>\n",
       "      <td>2</td>\n",
       "      <td>lg-94161796-aug-gonville--page-3.png</td>\n",
       "      <td>1960</td>\n",
       "      <td>2772</td>\n",
       "      <td>[1113019, 1113020, 1113021, 1113022, 1113023, ...</td>\n",
       "    </tr>\n",
       "    <tr>\n",
       "      <th>1</th>\n",
       "      <td>3</td>\n",
       "      <td>lg-139957803-aug-emmentaler--page-5.png</td>\n",
       "      <td>1960</td>\n",
       "      <td>2772</td>\n",
       "      <td>[182814, 182815, 182816, 182817, 182818, 18281...</td>\n",
       "    </tr>\n",
       "    <tr>\n",
       "      <th>2</th>\n",
       "      <td>4</td>\n",
       "      <td>lg-63506682-aug-emmentaler--page-6.png</td>\n",
       "      <td>1960</td>\n",
       "      <td>2772</td>\n",
       "      <td>[435136, 435137, 435138, 435139, 435140, 43514...</td>\n",
       "    </tr>\n",
       "    <tr>\n",
       "      <th>3</th>\n",
       "      <td>7</td>\n",
       "      <td>lg-102548668-aug-gonville--page-4.png</td>\n",
       "      <td>1960</td>\n",
       "      <td>2772</td>\n",
       "      <td>[998808, 998809, 998810, 998811, 998812, 99881...</td>\n",
       "    </tr>\n",
       "    <tr>\n",
       "      <th>4</th>\n",
       "      <td>8</td>\n",
       "      <td>lg-233786100286899765-aug-gutenberg1939--page-...</td>\n",
       "      <td>2970</td>\n",
       "      <td>4201</td>\n",
       "      <td>[774295, 774296, 774297, 774298, 774299, 77430...</td>\n",
       "    </tr>\n",
       "  </tbody>\n",
       "</table>\n",
       "</div>"
      ],
      "text/plain": [
       "   id                                           filename  width  height  \\\n",
       "0   2               lg-94161796-aug-gonville--page-3.png   1960    2772   \n",
       "1   3            lg-139957803-aug-emmentaler--page-5.png   1960    2772   \n",
       "2   4             lg-63506682-aug-emmentaler--page-6.png   1960    2772   \n",
       "3   7              lg-102548668-aug-gonville--page-4.png   1960    2772   \n",
       "4   8  lg-233786100286899765-aug-gutenberg1939--page-...   2970    4201   \n",
       "\n",
       "                                             ann_ids  \n",
       "0  [1113019, 1113020, 1113021, 1113022, 1113023, ...  \n",
       "1  [182814, 182815, 182816, 182817, 182818, 18281...  \n",
       "2  [435136, 435137, 435138, 435139, 435140, 43514...  \n",
       "3  [998808, 998809, 998810, 998811, 998812, 99881...  \n",
       "4  [774295, 774296, 774297, 774298, 774299, 77430...  "
      ]
     },
     "execution_count": 4,
     "metadata": {},
     "output_type": "execute_result"
    }
   ],
   "source": [
    "# # Example to access a nested part if 'data' contains a key that opens to a nested dictionary\n",
    "# nested_part = data['images']\n",
    "# print(nested_part)\n",
    "# Assuming 'data' is your loaded JSON dictionary\n",
    "images_data = data['images']\n",
    "\n",
    "# Convert the 'categories' dictionary to a DataFrame\n",
    "images_df = pd.DataFrame(images_data)\n",
    "\n",
    "# Display the DataFrame to check it\n",
    "images_df.head(5)"
   ]
  },
  {
   "cell_type": "markdown",
   "id": "de19c545-be1a-4a57-95c4-b57064f3846f",
   "metadata": {},
   "source": [
    "### The annotations table contains the bounding boxes (a_bbox is parallel to the image dimensions, o_bbox is the bounding box with rotation), cat_id object label (notice that they gave you the id's for deepscores and muscima- probably should remap this to a new single id), area (in pixels), and image_id (foreign key). The coordinates are in pixels."
   ]
  },
  {
   "cell_type": "code",
   "execution_count": 5,
   "id": "ed0dd5bb-feba-401f-8336-6b1a28b45760",
   "metadata": {},
   "outputs": [
    {
     "data": {
      "text/html": [
       "<div>\n",
       "<style scoped>\n",
       "    .dataframe tbody tr th:only-of-type {\n",
       "        vertical-align: middle;\n",
       "    }\n",
       "\n",
       "    .dataframe tbody tr th {\n",
       "        vertical-align: top;\n",
       "    }\n",
       "\n",
       "    .dataframe thead th {\n",
       "        text-align: right;\n",
       "    }\n",
       "</style>\n",
       "<table border=\"1\" class=\"dataframe\">\n",
       "  <thead>\n",
       "    <tr style=\"text-align: right;\">\n",
       "      <th></th>\n",
       "      <th>a_bbox</th>\n",
       "      <th>o_bbox</th>\n",
       "      <th>cat_id</th>\n",
       "      <th>area</th>\n",
       "      <th>img_id</th>\n",
       "      <th>comments</th>\n",
       "    </tr>\n",
       "  </thead>\n",
       "  <tbody>\n",
       "    <tr>\n",
       "      <th>1020</th>\n",
       "      <td>[116.0, 139.0, 2315.0, 206.0]</td>\n",
       "      <td>[2315.0, 206.0, 2315.0, 139.0, 116.0, 139.0, 1...</td>\n",
       "      <td>[135, 208]</td>\n",
       "      <td>18945</td>\n",
       "      <td>679</td>\n",
       "      <td>instance:#000010;</td>\n",
       "    </tr>\n",
       "    <tr>\n",
       "      <th>1021</th>\n",
       "      <td>[116.0, 309.0, 2315.0, 376.0]</td>\n",
       "      <td>[2315.0, 376.0, 2315.0, 309.0, 116.0, 309.0, 1...</td>\n",
       "      <td>[135, 208]</td>\n",
       "      <td>19223</td>\n",
       "      <td>679</td>\n",
       "      <td>instance:#000021;</td>\n",
       "    </tr>\n",
       "    <tr>\n",
       "      <th>1022</th>\n",
       "      <td>[1880.0, 561.0, 1911.0, 564.0]</td>\n",
       "      <td>[1911.0, 564.0, 1911.0, 561.0, 1880.0, 561.0, ...</td>\n",
       "      <td>[2, 138]</td>\n",
       "      <td>120</td>\n",
       "      <td>679</td>\n",
       "      <td>instance:#000022;</td>\n",
       "    </tr>\n",
       "    <tr>\n",
       "      <th>1023</th>\n",
       "      <td>[1883.0, 578.0, 1911.0, 580.0]</td>\n",
       "      <td>[1911.0, 580.0, 1911.0, 578.0, 1883.0, 578.0, ...</td>\n",
       "      <td>[2, 138]</td>\n",
       "      <td>27</td>\n",
       "      <td>679</td>\n",
       "      <td>instance:#000023;</td>\n",
       "    </tr>\n",
       "    <tr>\n",
       "      <th>1024</th>\n",
       "      <td>[1827.0, 561.0, 1857.0, 564.0]</td>\n",
       "      <td>[1857.0, 564.0, 1857.0, 561.0, 1827.0, 561.0, ...</td>\n",
       "      <td>[2, 138]</td>\n",
       "      <td>112</td>\n",
       "      <td>679</td>\n",
       "      <td>instance:#000024;</td>\n",
       "    </tr>\n",
       "  </tbody>\n",
       "</table>\n",
       "</div>"
      ],
      "text/plain": [
       "                              a_bbox  \\\n",
       "1020   [116.0, 139.0, 2315.0, 206.0]   \n",
       "1021   [116.0, 309.0, 2315.0, 376.0]   \n",
       "1022  [1880.0, 561.0, 1911.0, 564.0]   \n",
       "1023  [1883.0, 578.0, 1911.0, 580.0]   \n",
       "1024  [1827.0, 561.0, 1857.0, 564.0]   \n",
       "\n",
       "                                                 o_bbox      cat_id   area  \\\n",
       "1020  [2315.0, 206.0, 2315.0, 139.0, 116.0, 139.0, 1...  [135, 208]  18945   \n",
       "1021  [2315.0, 376.0, 2315.0, 309.0, 116.0, 309.0, 1...  [135, 208]  19223   \n",
       "1022  [1911.0, 564.0, 1911.0, 561.0, 1880.0, 561.0, ...    [2, 138]    120   \n",
       "1023  [1911.0, 580.0, 1911.0, 578.0, 1883.0, 578.0, ...    [2, 138]     27   \n",
       "1024  [1857.0, 564.0, 1857.0, 561.0, 1827.0, 561.0, ...    [2, 138]    112   \n",
       "\n",
       "     img_id           comments  \n",
       "1020    679  instance:#000010;  \n",
       "1021    679  instance:#000021;  \n",
       "1022    679  instance:#000022;  \n",
       "1023    679  instance:#000023;  \n",
       "1024    679  instance:#000024;  "
      ]
     },
     "execution_count": 5,
     "metadata": {},
     "output_type": "execute_result"
    }
   ],
   "source": [
    "# # Example to access a nested part if 'data' contains a key that opens to a nested dictionary\n",
    "# nested_part = data['annotations']\n",
    "# print(nested_part)\n",
    "# Assuming 'data' is your loaded JSON dictionary\n",
    "anns_data = data['annotations']\n",
    "# Convert the 'categories' dictionary to a DataFrame\n",
    "anns_df = pd.DataFrame(anns_data)\n",
    "anns_df = anns_df.T\n",
    "# Display the DataFrame to check it\n",
    "anns_df.head(5)"
   ]
  },
  {
   "cell_type": "markdown",
   "id": "3b61ac5b-5c2c-4914-b088-58079c25c80a",
   "metadata": {},
   "source": [
    "### let's find a rotated bounding box to look at"
   ]
  },
  {
   "cell_type": "code",
   "execution_count": 28,
   "id": "803b0304-d071-44d4-8e38-cac6257a7e17",
   "metadata": {},
   "outputs": [
    {
     "name": "stdout",
     "output_type": "stream",
     "text": [
      "Found a rotated bounding box: [1696.676513671875, 156.7941131591797, 1688.6470947265625, 143.41175842285156, 1670.7059326171875, 154.1764678955078, 1678.7353515625, 167.55882263183594]\n"
     ]
    }
   ],
   "source": [
    "# Assuming 'anns_df' is your DataFrame and 'o_bbox' contains the bounding boxes\n",
    "# We need to find a bounding box with all unique coordinates.\n",
    "\n",
    "# Function to check if all coordinates in the box are unique\n",
    "def has_all_unique_coordinates(box):\n",
    "    return len(set(box)) == len(box)\n",
    "\n",
    "# Apply the function to each item in the 'o_bbox' column and filter\n",
    "unique_boxes = anns_df[anns_df['o_bbox'].apply(has_all_unique_coordinates)]\n",
    "\n",
    "# Check if we found any and print the first one if available\n",
    "if not unique_boxes.empty:\n",
    "    print(\"Found a rotated bounding box:\", unique_boxes['o_bbox'].iloc[0])\n",
    "else:\n",
    "    print(\"No rotated bounding boxes found.\")"
   ]
  },
  {
   "cell_type": "code",
   "execution_count": 26,
   "id": "9652ced6-c67c-4c23-9c1d-a1cd314be347",
   "metadata": {
    "scrolled": true
   },
   "outputs": [
    {
     "data": {
      "text/plain": [
       "a_bbox                         [1432.0, 163.0, 1453.0, 179.0]\n",
       "o_bbox      [1455.5, 168.50003051757812, 1445.0, 158.00003...\n",
       "cat_id                                              [27, 157]\n",
       "area                                                      279\n",
       "img_id                                                   1072\n",
       "comments         instance:#00003a;duration:4.;rel_position:1;\n",
       "Name: 2112, dtype: object"
      ]
     },
     "execution_count": 26,
     "metadata": {},
     "output_type": "execute_result"
    }
   ],
   "source": [
    "anns_df.iloc[1092]"
   ]
  },
  {
   "cell_type": "markdown",
   "id": "98e1b6ba-d8c4-4cbd-9fe5-bc601a4ff964",
   "metadata": {},
   "source": [
    "### get the coordinates of the corners"
   ]
  },
  {
   "cell_type": "code",
   "execution_count": 38,
   "id": "167c6404-2f93-4ced-8aff-9ad976ab3ffd",
   "metadata": {},
   "outputs": [
    {
     "name": "stdout",
     "output_type": "stream",
     "text": [
      "[1455.5, 168.50003051757812, 1445.0, 158.00003051757812, 1429.0, 174.00003051757812, 1439.5, 184.50003051757812]\n"
     ]
    },
    {
     "data": {
      "text/plain": [
       "[1432.0, 163.0, 1453.0, 179.0]"
      ]
     },
     "execution_count": 38,
     "metadata": {},
     "output_type": "execute_result"
    }
   ],
   "source": [
    "obb = anns_df['o_bbox'].iloc[1092]\n",
    "print(obb)\n",
    "\n",
    "abb = anns_df['a_bbox'].iloc[1092]\n",
    "abb"
   ]
  },
  {
   "cell_type": "markdown",
   "id": "5c33b7cc-69c1-4216-a83c-ce0828f15824",
   "metadata": {},
   "source": [
    "### plot the bounding box - the blue line is the diagonal of the parallel bounding box"
   ]
  },
  {
   "cell_type": "code",
   "execution_count": null,
   "id": "1b936787-8236-4931-8356-7d307f62e549",
   "metadata": {},
   "outputs": [
    {
     "data": {
      "image/png": "[encoded data removed]",
      "text/plain": [
       "<Figure size 300x210 with 1 Axes>"
      ]
     },
     "metadata": {},
     "output_type": "display_data"
    }
   ],
   "source": [
    "# Define the coordinates for obb\n",
    "points = [(1455, 168), (1445, 158), (1429, 174) , (1439, 184)] #obb\n",
    "points1 = [(1432, 163), (1453, 179)] #abb\n",
    "\n",
    "# Define the coordinates for abb\n",
    "# points1 = [(abb[0], abb[1]), (abb[2], abb[3])] \n",
    "\n",
    "fig, ax = plt.subplots()\n",
    "# Create a Polygon patch\n",
    "polygon = patches.Polygon(points, closed=True, edgecolor='r', facecolor='none')\n",
    "polygon1 = patches.Polygon(points1, closed=True, edgecolor='b', facecolor='none')\n",
    "ax.add_patch(polygon)\n",
    "ax.add_patch(polygon1)\n",
    "\n",
    "# Set plot limits for better visibility\n",
    "ax.set_xlim(1400, 1480)\n",
    "ax.set_ylim(140, 200)\n",
    "\n",
    "# Add grid and labels for better visualization\n",
    "ax.grid(True)\n",
    "ax.set_xlabel('X coordinate')\n",
    "ax.set_ylabel('Y coordinate')\n",
    "ax.set_title('Oriented Bounding Box')\n",
    "\n",
    "fig.set_size_inches(3, 2.1)\n",
    "plt.show()"
   ]
  },
  {
   "cell_type": "markdown",
   "id": "61e9b4d0-80f6-4300-9d88-3723f50691a0",
   "metadata": {},
   "source": [
    "### let's figure out what object this is"
   ]
  },
  {
   "cell_type": "code",
   "execution_count": 41,
   "id": "c2abaaf1-e501-4b20-9e3d-38ea371abf5a",
   "metadata": {},
   "outputs": [
    {
     "data": {
      "text/plain": [
       "a_bbox                         [1115.0, 366.0, 1137.0, 384.0]\n",
       "o_bbox      [1139.4000244140625, 375.8000183105469, 1132.8...\n",
       "cat_id                                              [29, 158]\n",
       "area                                                      233\n",
       "img_id                                                   1072\n",
       "comments         instance:#00003c;duration:2;rel_position:-4;\n",
       "Name: 2114, dtype: object"
      ]
     },
     "execution_count": 41,
     "metadata": {},
     "output_type": "execute_result"
    }
   ],
   "source": [
    "anns_df.iloc[1094]"
   ]
  },
  {
   "cell_type": "code",
   "execution_count": 11,
   "id": "5a5133aa-cd09-4119-a2a6-450fa29392f9",
   "metadata": {},
   "outputs": [
    {
     "data": {
      "text/html": [
       "<div>\n",
       "<style scoped>\n",
       "    .dataframe tbody tr th:only-of-type {\n",
       "        vertical-align: middle;\n",
       "    }\n",
       "\n",
       "    .dataframe tbody tr th {\n",
       "        vertical-align: top;\n",
       "    }\n",
       "\n",
       "    .dataframe thead th {\n",
       "        text-align: right;\n",
       "    }\n",
       "</style>\n",
       "<table border=\"1\" class=\"dataframe\">\n",
       "  <thead>\n",
       "    <tr style=\"text-align: right;\">\n",
       "      <th></th>\n",
       "      <th>name</th>\n",
       "      <th>annotation_set</th>\n",
       "      <th>color</th>\n",
       "    </tr>\n",
       "  </thead>\n",
       "  <tbody>\n",
       "    <tr>\n",
       "      <th>27</th>\n",
       "      <td>noteheadBlackInSpace</td>\n",
       "      <td>deepscores</td>\n",
       "      <td>37</td>\n",
       "    </tr>\n",
       "  </tbody>\n",
       "</table>\n",
       "</div>"
      ],
      "text/plain": [
       "                    name annotation_set color\n",
       "27  noteheadBlackInSpace     deepscores    37"
      ]
     },
     "execution_count": 11,
     "metadata": {},
     "output_type": "execute_result"
    }
   ],
   "source": [
    "categories_df[47:48]"
   ]
  },
  {
   "cell_type": "markdown",
   "id": "7ab8a85c-2c02-428f-a2dc-344e82aba4ad",
   "metadata": {},
   "source": [
    "### it's a note- let's figure out what image it's in so we can visualize it"
   ]
  },
  {
   "cell_type": "code",
   "execution_count": 12,
   "id": "c76729e4-c98f-4529-a970-816c3b67b0fa",
   "metadata": {},
   "outputs": [
    {
     "data": {
      "text/html": [
       "<div>\n",
       "<style scoped>\n",
       "    .dataframe tbody tr th:only-of-type {\n",
       "        vertical-align: middle;\n",
       "    }\n",
       "\n",
       "    .dataframe tbody tr th {\n",
       "        vertical-align: top;\n",
       "    }\n",
       "\n",
       "    .dataframe thead th {\n",
       "        text-align: right;\n",
       "    }\n",
       "</style>\n",
       "<table border=\"1\" class=\"dataframe\">\n",
       "  <thead>\n",
       "    <tr style=\"text-align: right;\">\n",
       "      <th></th>\n",
       "      <th>id</th>\n",
       "      <th>filename</th>\n",
       "      <th>width</th>\n",
       "      <th>height</th>\n",
       "      <th>ann_ids</th>\n",
       "    </tr>\n",
       "  </thead>\n",
       "  <tbody>\n",
       "    <tr>\n",
       "      <th>862</th>\n",
       "      <td>1072</td>\n",
       "      <td>lg-174521423366315269-aug-lilyjazz--page-3.png</td>\n",
       "      <td>1921</td>\n",
       "      <td>2717</td>\n",
       "      <td>[2082, 2083, 2084, 2085, 2086, 2087, 2088, 208...</td>\n",
       "    </tr>\n",
       "  </tbody>\n",
       "</table>\n",
       "</div>"
      ],
      "text/plain": [
       "       id                                        filename  width  height  \\\n",
       "862  1072  lg-174521423366315269-aug-lilyjazz--page-3.png   1921    2717   \n",
       "\n",
       "                                               ann_ids  \n",
       "862  [2082, 2083, 2084, 2085, 2086, 2087, 2088, 208...  "
      ]
     },
     "execution_count": 12,
     "metadata": {},
     "output_type": "execute_result"
    }
   ],
   "source": [
    "images_df[images_df['id']==1072]"
   ]
  },
  {
   "cell_type": "code",
   "execution_count": 42,
   "id": "a49dc0a2-e18c-47e5-b02b-a475edaf792a",
   "metadata": {},
   "outputs": [
    {
     "data": {
      "text/plain": [
       "'lg-212107868-aug-lilyjazz--page-2.png'"
      ]
     },
     "execution_count": 42,
     "metadata": {},
     "output_type": "execute_result"
    }
   ],
   "source": [
    "image_path = images_df.loc[1094]['filename']\n",
    "image_path"
   ]
  },
  {
   "cell_type": "markdown",
   "id": "43f0e013-8246-4824-9993-7fb0bb3671e0",
   "metadata": {},
   "source": [
    "### now let's draw the box on the image"
   ]
  },
  {
   "cell_type": "code",
   "execution_count": 14,
   "id": "f46bbbd2-e24c-41be-ba36-4a86d8593626",
   "metadata": {},
   "outputs": [],
   "source": [
    "def draw_obb_on_image(image_path, obb, zoom=False):\n",
    "    # Load the image\n",
    "    img = Image.open(image_path)\n",
    "    \n",
    "    # Create a matplotlib figure and axis\n",
    "    fig, ax = plt.subplots()\n",
    "    ax.imshow(img)\n",
    "    # Set plot limits for better visibility\n",
    "    if zoom:    \n",
    "        ax.set_xlim(1000, 1750)\n",
    "        ax.set_ylim(400, 0)\n",
    "    # Create a polygon patch from the OBB coordinates\n",
    "    polygon = patches.Polygon([(obb[i], obb[i+1]) for i in range(0, len(obb), 2)], \n",
    "                              closed=True, edgecolor='red', fill=False)\n",
    "    ax.add_patch(polygon)\n",
    "    \n",
    "    # Show the plot\n",
    "    plt.show()"
   ]
  },
  {
   "cell_type": "code",
   "execution_count": 43,
   "id": "74ea91bb-d87d-4701-a7dc-8e61e34be4dc",
   "metadata": {},
   "outputs": [
    {
     "data": {
      "image/png": "[encoded data removed]",
      "text/plain": [
       "<Figure size 640x480 with 1 Axes>"
      ]
     },
     "metadata": {},
     "output_type": "display_data"
    }
   ],
   "source": [
    "draw_obb_on_image('./ds2_dense/images/'+image_path, obb)"
   ]
  },
  {
   "cell_type": "markdown",
   "id": "104f077a-edc6-45fd-b22b-4b7e3217a676",
   "metadata": {},
   "source": [
    "### zoomed in- looks pretty good!"
   ]
  },
  {
   "cell_type": "code",
   "execution_count": 44,
   "id": "b0f80dad-a0c2-4ba7-bf35-1a5a813010c5",
   "metadata": {
    "scrolled": true
   },
   "outputs": [
    {
     "data": {
      "image/png": "[encoded data removed]",
      "text/plain": [
       "<Figure size 640x480 with 1 Axes>"
      ]
     },
     "metadata": {},
     "output_type": "display_data"
    }
   ],
   "source": [
    "draw_obb_on_image('./ds2_dense/images/'+image_path, obb, True)"
   ]
  },
  {
   "cell_type": "markdown",
   "id": "972042bb-9cd1-4b6b-a6a0-8330b1115114",
   "metadata": {},
   "source": [
    "### possible code to convert 4-corner coordinates to (center_x,center_y,W,H,R) normalized"
   ]
  },
  {
   "cell_type": "code",
   "execution_count": 18,
   "id": "da046a7d-a6a2-4d4f-b80e-8445e10162bd",
   "metadata": {},
   "outputs": [
    {
     "data": {
      "text/plain": [
       "[np.float64(0.7507808433107753),\n",
       " np.float64(0.06302908741905705),\n",
       " np.float64(0.011778978135330308),\n",
       " np.float64(0.0054653082093917916),\n",
       " np.float64(135.0)]"
      ]
     },
     "execution_count": 18,
     "metadata": {},
     "output_type": "execute_result"
    }
   ],
   "source": [
    "import numpy as np\n",
    "from shapely.geometry import Polygon\n",
    "\n",
    "def obb_to_yolo(obb, img_width, img_height):\n",
    "    # Assuming 'obb' is a list of eight coordinates: [x1, y1, x2, y2, x3, y3, x4, y4]\n",
    "    polygon = Polygon([(obb[i], obb[i + 1]) for i in range(0, len(obb), 2)])\n",
    "    min_rect = polygon.minimum_rotated_rectangle\n",
    "    \n",
    "    # Extract the corners of the minimum rotated rectangle\n",
    "    corners = np.array(min_rect.exterior.coords)\n",
    "    \n",
    "    # Calculate width, height and center of the rectangle\n",
    "    edge1 = np.linalg.norm(corners[0] - corners[1])\n",
    "    edge2 = np.linalg.norm(corners[1] - corners[2])\n",
    "    width = max(edge1, edge2)\n",
    "    height = min(edge1, edge2)\n",
    "    \n",
    "    center = min_rect.centroid.coords[0]\n",
    "    center_x = center[0]\n",
    "    center_y = center[1]\n",
    "    \n",
    "    # Calculate rotation angle\n",
    "    angle = np.rad2deg(np.arctan2(corners[1][1] - corners[0][1], corners[1][0] - corners[0][0]))\n",
    "    \n",
    "    # Normalize width, height, and center coordinates\n",
    "    center_x /= img_width\n",
    "    center_y /= img_height\n",
    "    width /= img_width\n",
    "    height /= img_height\n",
    "    \n",
    "    return [center_x, center_y, width, height, angle]\n",
    "\n",
    "# Example usage:\n",
    "obb = anns_df['o_bbox'].iloc[1092]\n",
    "img_width = images_df.loc[862]['width']\n",
    "img_height = images_df.loc[862]['height']\n",
    "\n",
    "yolo_bbox = obb_to_yolo(obb, img_width, img_height)\n",
    "yolo_bbox"
   ]
  },
  {
   "cell_type": "code",
   "execution_count": 19,
   "id": "01e65c09-817f-4db8-abf1-759a6a6ec77a",
   "metadata": {},
   "outputs": [],
   "source": [
    "def centroid_from_corners(coords):\n",
    "    # coords should be a list of eight elements: [x1, y1, x2, y2, x3, y3, x4, y4]\n",
    "    xs = coords[0::2]  # Extracts every second element starting from 0\n",
    "    ys = coords[1::2]  # Extracts every second element starting from 1\n",
    "    centroid_x = sum(xs) / len(xs)\n",
    "    centroid_y = sum(ys) / len(ys)\n",
    "    return (centroid_x, centroid_y)"
   ]
  },
  {
   "cell_type": "code",
   "execution_count": 20,
   "id": "d9dc147c-5369-43a6-9fec-640c1ecfedcb",
   "metadata": {},
   "outputs": [
    {
     "data": {
      "text/plain": [
       "(1442.25, 171.25003051757812)"
      ]
     },
     "execution_count": 20,
     "metadata": {},
     "output_type": "execute_result"
    }
   ],
   "source": [
    "centroid_from_corners(obb)"
   ]
  },
  {
   "cell_type": "code",
   "execution_count": 21,
   "id": "fc126886-d168-438a-9c16-69aad3f66331",
   "metadata": {},
   "outputs": [
    {
     "data": {
      "text/plain": [
       "(np.float64(1442.2499999999993), np.float64(171.250030517578))"
      ]
     },
     "execution_count": 21,
     "metadata": {},
     "output_type": "execute_result"
    }
   ],
   "source": [
    "(yolo_bbox[0]*1921, yolo_bbox[1]*2717)"
   ]
  },
  {
   "cell_type": "markdown",
   "id": "dd99f73a-2925-4dab-b078-91750510895f",
   "metadata": {},
   "source": [
    "### matplotlib hates yolo coordinates, so we will need to convert them back any time we want to plot"
   ]
  },
  {
   "cell_type": "code",
   "execution_count": 22,
   "id": "93794011-c693-456f-9c86-2ba86eb25009",
   "metadata": {},
   "outputs": [],
   "source": [
    "def yolo_to_corners(center_x, center_y, width, height, rotation, img_width, img_height):\n",
    "    center_x *= img_width\n",
    "    center_y *= img_height\n",
    "    width *= img_width\n",
    "    height *= img_height\n",
    "    rotation = np.deg2rad(rotation)\n",
    "    \n",
    "    corners = np.array([\n",
    "        [-width / 2, -height / 2],\n",
    "        [width / 2, -height / 2],\n",
    "        [width / 2, height / 2],\n",
    "        [-width / 2, height / 2]\n",
    "    ])\n",
    "    \n",
    "    R = np.array([\n",
    "        [np.cos(rotation), -np.sin(rotation)],\n",
    "        [np.sin(rotation), np.cos(rotation)]\n",
    "    ])\n",
    "    \n",
    "    rot_corners = np.dot(corners, R)\n",
    "    rot_corners[:, 0] += center_x\n",
    "    rot_corners[:, 1] += center_y\n",
    "    \n",
    "    return rot_corners.flatten()"
   ]
  },
  {
   "cell_type": "markdown",
   "id": "3cc21971-d4d0-431a-8bc8-2f97a17a6960",
   "metadata": {},
   "source": [
    "### plot the yolo box"
   ]
  },
  {
   "cell_type": "code",
   "execution_count": 23,
   "id": "a0e4e5f3-d47f-41a2-a9ab-beec9622474c",
   "metadata": {},
   "outputs": [],
   "source": [
    "def draw_rotated_yolo_bbox(image_path, bbox, img_width, img_height, zoom=False):\n",
    "    img = Image.open(image_path)\n",
    "    fig, ax = plt.subplots()\n",
    "    ax.imshow(img)\n",
    "\n",
    "    corners = yolo_to_corners(bbox[0], bbox[1], bbox[2], bbox[3], bbox[4], img_width, img_height)\n",
    "    polygon = patches.Polygon(np.array(corners).reshape(4, 2), closed=True, edgecolor='r', facecolor='none')\n",
    "    ax.add_patch(polygon)\n",
    "\n",
    "    if zoom:\n",
    "        buffer = 100\n",
    "        ax.set_xlim(min(corners[0::2]) - buffer, max(corners[0::2]) + buffer)\n",
    "        ax.set_ylim(max(corners[1::2]) + buffer, min(corners[1::2]) - buffer)\n",
    "    else:\n",
    "        ax.set_xlim(0, img_width)\n",
    "        ax.set_ylim(img_height, 0)\n",
    "    \n",
    "    plt.show()"
   ]
  },
  {
   "cell_type": "code",
   "execution_count": 24,
   "id": "f935e9ed-ab30-4ff5-9d79-a850afdf6de6",
   "metadata": {},
   "outputs": [
    {
     "data": {
      "image/png": "[encoded data removed]",
      "text/plain": [
       "<Figure size 640x480 with 1 Axes>"
      ]
     },
     "metadata": {},
     "output_type": "display_data"
    }
   ],
   "source": [
    "draw_rotated_yolo_bbox('./ds2_dense/images/'+image_path, yolo_bbox, img_width, img_height, True)"
   ]
  },
  {
   "cell_type": "code",
   "execution_count": null,
   "id": "e68b4dad-4dec-4d35-9e2b-7d1aa60dc168",
   "metadata": {},
   "outputs": [],
   "source": []
  }
 ],
 "metadata": {
  "kernelspec": {
   "display_name": ".venv",
   "language": "python",
   "name": "python3"
  },
  "language_info": {
   "codemirror_mode": {
    "name": "ipython",
    "version": 3
   },
   "file_extension": ".py",
   "mimetype": "text/x-python",
   "name": "python",
   "nbconvert_exporter": "python",
   "pygments_lexer": "ipython3",
   "version": "3.12.7"
  }
 },
 "nbformat": 4,
 "nbformat_minor": 5
}
